{
 "cells": [
  {
   "cell_type": "markdown",
   "metadata": {},
   "source": [
    "# Digital signature in Bitcoin"
   ]
  },
  {
   "cell_type": "code",
   "execution_count": 1,
   "metadata": {},
   "outputs": [],
   "source": [
    "import bitcoin\n",
    "import ecdsa"
   ]
  },
  {
   "cell_type": "code",
   "execution_count": 2,
   "metadata": {},
   "outputs": [],
   "source": [
    "#secp256k1 elliptic curve\n",
    "_p = 0xFFFFFFFFFFFFFFFFFFFFFFFFFFFFFFFFFFFFFFFFFFFFFFFFFFFFFFFEFFFFFC2F\n",
    "_n = 0xFFFFFFFFFFFFFFFFFFFFFFFFFFFFFFFEBAAEDCE6AF48A03BBFD25E8CD0364141\n",
    "_b = 0x0000000000000000000000000000000000000000000000000000000000000007\n",
    "_a = 0x0000000000000000000000000000000000000000000000000000000000000000\n",
    "_Gx = 0x79BE667EF9DCBBAC55A06295CE870B07029BFCDB2DCE28D959F2815B16F81798\n",
    "_Gy = 0x483ada7726a3c4655da4fbfc0e1108a8fd17b448a68554199c47d08ffb10d4b8\n",
    "\n",
    "curve = ecdsa.ellipticcurve.CurveFp(_p, _a, _b)\n",
    "generator = ecdsa.ellipticcurve.Point(curve, _Gx, _Gy, _n)\n",
    "oid = (1, 3, 132, 0, 10)\n",
    "SECP256k1 = ecdsa.curves.Curve(\"SECP256k1\", curve, generator, oid)"
   ]
  },
  {
   "cell_type": "code",
   "execution_count": 3,
   "metadata": {},
   "outputs": [
    {
     "name": "stdout",
     "output_type": "stream",
     "text": [
      "Private key:\n",
      "b793394fba80ae48cea022e816a0681d68ab34f5fab8e996d7e455f8dade48bc\n",
      "\n",
      "Public key point:\n",
      "(81852358409583078132913769522892336249086096395542025604694199336325523479920,80342473401992836716531609393971973732548147875775607464919304601980854872630)\n",
      "\n",
      "Example transction data:\n",
      "'Transaction data'\n"
     ]
    }
   ],
   "source": [
    "#Initializing necessary data\n",
    "priv_key = 'b793394fba80ae48cea022e816a0681d68ab34f5fab8e996d7e455f8dade48bc'\n",
    "pub_key_point = int(priv_key,16) * generator\n",
    "tx = 'Transaction data'\n",
    "print('Private key:', priv_key, sep='\\n', end='\\n\\n')\n",
    "print('Public key point:', pub_key_point, sep='\\n', end='\\n\\n')\n",
    "print('Example transction data:', \"'\" + tx + \"'\", sep='\\n')"
   ]
  },
  {
   "cell_type": "code",
   "execution_count": 4,
   "metadata": {},
   "outputs": [
    {
     "name": "stdout",
     "output_type": "stream",
     "text": [
      "Transaction hash: 7cc03f2b1f466374e8691e43f69ceff4680d5760a1fcb22e387c4f9798e4b482\n"
     ]
    }
   ],
   "source": [
    "#Computing transaction hash with priorly added SIGHASH type\n",
    "tx_hash = bitcoin.txhash(tx, hashcode=bitcoin.SIGHASH_ALL)\n",
    "print('Transaction hash:', tx_hash)"
   ]
  },
  {
   "cell_type": "code",
   "execution_count": 5,
   "metadata": {},
   "outputs": [
    {
     "name": "stdout",
     "output_type": "stream",
     "text": [
      "k = 10367737156050198742371273494331617727131814076475671317911472787261859672112\n"
     ]
    }
   ],
   "source": [
    "#Generating random number k (ephemeral private key)\n",
    "k = bitcoin.deterministic_generate_k(bitcoin.txhash(tx), priv_key)\n",
    "print('k =', k)"
   ]
  },
  {
   "cell_type": "code",
   "execution_count": 6,
   "metadata": {
    "scrolled": true
   },
   "outputs": [
    {
     "name": "stdout",
     "output_type": "stream",
     "text": [
      "P = (7958611498930676801754267071725705291801676223419638510268672625381072649783,1922522205416409897854082188621196197494542542592200168483806142459855183244)\n",
      "R = 7958611498930676801754267071725705291801676223419638510268672625381072649783\n"
     ]
    }
   ],
   "source": [
    "#Computing point P (ephemeral public key)\n",
    "P = k * generator\n",
    "R = P.x() % _n\n",
    "print('P =', P)\n",
    "print('R =', R)"
   ]
  },
  {
   "cell_type": "markdown",
   "metadata": {},
   "source": [
    "$$P = k \\times G$$\n",
    "$$R = P_x \\mod{n}$$\n",
    "$$ n \\times G = O$$ "
   ]
  },
  {
   "cell_type": "code",
   "execution_count": 7,
   "metadata": {},
   "outputs": [],
   "source": [
    "#Converting transaction hash and private key to integers\n",
    "tx_hash = int(tx_hash, 16)\n",
    "priv_key = int(priv_key, 16)"
   ]
  },
  {
   "cell_type": "code",
   "execution_count": 8,
   "metadata": {},
   "outputs": [
    {
     "name": "stdout",
     "output_type": "stream",
     "text": [
      "S = 1334613320548274216532725684432922860199418151669975572704907084091578940890\n"
     ]
    }
   ],
   "source": [
    "#Computing S using modular multiplicative inverse of k\n",
    "k_inv = bitcoin.inv(k, _n)\n",
    "S = (k_inv * (tx_hash + priv_key*R)) % _n\n",
    "print('S =', S)"
   ]
  },
  {
   "cell_type": "markdown",
   "metadata": {},
   "source": [
    "$$ S = k^{-1}(hash(tx) + privkey*R) \\mod{n}$$"
   ]
  },
  {
   "cell_type": "code",
   "execution_count": 9,
   "metadata": {},
   "outputs": [
    {
     "name": "stdout",
     "output_type": "stream",
     "text": [
      "Digital signature(R,S): (7958611498930676801754267071725705291801676223419638510268672625381072649783, 1334613320548274216532725684432922860199418151669975572704907084091578940890)\n"
     ]
    }
   ],
   "source": [
    "#Digital signature\n",
    "print('Digital signature(R,S):', (R,S))"
   ]
  },
  {
   "cell_type": "code",
   "execution_count": 10,
   "metadata": {},
   "outputs": [
    {
     "name": "stdout",
     "output_type": "stream",
     "text": [
      "verification_P.x = 7958611498930676801754267071725705291801676223419638510268672625381072649783\n",
      "\n",
      "Succesfully verificated\n"
     ]
    }
   ],
   "source": [
    "#Digital signature verification using public key and transaction hash\n",
    "inv_S = bitcoin.inv(S, _n)\n",
    "verification_P = (inv_S*tx_hash)*generator + (inv_S*R)*pub_key_point\n",
    "print('verification_P.x =', verification_P.x(), end='\\n\\n')\n",
    "if verification_P.x() == R:\n",
    "    print('Succesfully verificated')"
   ]
  },
  {
   "cell_type": "markdown",
   "metadata": {},
   "source": [
    "$$ P^{verification} = S^{-1}hash(tx) \\times G \\space + S^{-1}R \\times pubkey $$\n",
    "$$ \\text{Verificated if } P^{verification}_x = R$$"
   ]
  }
 ],
 "metadata": {
  "kernelspec": {
   "display_name": "Python 3",
   "language": "python",
   "name": "python3"
  },
  "language_info": {
   "codemirror_mode": {
    "name": "ipython",
    "version": 3
   },
   "file_extension": ".py",
   "mimetype": "text/x-python",
   "name": "python",
   "nbconvert_exporter": "python",
   "pygments_lexer": "ipython3",
   "version": "3.6.6"
  }
 },
 "nbformat": 4,
 "nbformat_minor": 2
}
