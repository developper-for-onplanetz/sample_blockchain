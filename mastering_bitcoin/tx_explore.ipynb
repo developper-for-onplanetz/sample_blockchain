{
 "cells": [
  {
   "cell_type": "markdown",
   "metadata": {},
   "source": [
    "# Exploring Bitcoin transaction content"
   ]
  },
  {
   "cell_type": "code",
   "execution_count": 1,
   "metadata": {},
   "outputs": [],
   "source": [
    "import bitcoin   #pybitcointtools\n",
    "import json      #For formatting dictionaries into json format"
   ]
  },
  {
   "cell_type": "code",
   "execution_count": 2,
   "metadata": {},
   "outputs": [],
   "source": [
    "#Decodes oncodes of script commands (some of them)\n",
    "def opcode_to_word(opcode):\n",
    "    opcodes = {118 : 'OP_DUP',\n",
    "               169 : 'OP_HASH160',\n",
    "               136 : 'OP_EQUALVERIFY',\n",
    "               172 : 'OP_CHECKSIG'}\n",
    "    if isinstance(opcode, int):\n",
    "        return opcodes[opcode]\n",
    "    else:\n",
    "        return opcode"
   ]
  },
  {
   "cell_type": "code",
   "execution_count": 3,
   "metadata": {},
   "outputs": [
    {
     "name": "stdout",
     "output_type": "stream",
     "text": [
      "Raw transaction: 0100000001186f9f998a5aa6f048e51dd8419a14d8a0f1a8a2836dd734d2804fe65fa35779000000008b483045022100884d142d86652a3f47ba4746ec719bbfbd040a570b1deccbb6498c75c4ae24cb02204b9f039ff08df09cbe9f6addac960298cad530a863ea8f53982c09db8f6e381301410484ecc0d46f1918b30928fa0e4ed99f16a0fb4fde0735e7ade8416ab9fe423cc5412336376789d172787ec3457eee41c04f4938de5cc17b4a10fa336a8d752adfffffffff0260e31600000000001976a914ab68025513c3dbd2f7b92a94e0581f5d50f654e788acd0ef8000000000001976a9147f9b1a7fb68d60c536c2fd8aeaa53a8f3cc025a888ac00000000\n"
     ]
    }
   ],
   "source": [
    "#Fetching the transaction from blockchain.info\n",
    "tx = bitcoin.fetchtx('0627052b6f28912f2703066a912ea577f2ce4da4caa5a5fbd8a57286c345c2f2')\n",
    "print('Raw transaction:', tx.decode())"
   ]
  },
  {
   "cell_type": "code",
   "execution_count": 4,
   "metadata": {},
   "outputs": [
    {
     "name": "stdout",
     "output_type": "stream",
     "text": [
      "Deserialized transaction:\n",
      "{\n",
      "    \"ins\": [\n",
      "        {\n",
      "            \"outpoint\": {\n",
      "                \"hash\": \"7957a35fe64f80d234d76d83a2a8f1a0d8149a41d81de548f0a65a8a999f6f18\",\n",
      "                \"index\": 0\n",
      "            },\n",
      "            \"script\": \"483045022100884d142d86652a3f47ba4746ec719bbfbd040a570b1deccbb6498c75c4ae24cb02204b9f039ff08df09cbe9f6addac960298cad530a863ea8f53982c09db8f6e381301410484ecc0d46f1918b30928fa0e4ed99f16a0fb4fde0735e7ade8416ab9fe423cc5412336376789d172787ec3457eee41c04f4938de5cc17b4a10fa336a8d752adf\",\n",
      "            \"sequence\": 4294967295\n",
      "        }\n",
      "    ],\n",
      "    \"outs\": [\n",
      "        {\n",
      "            \"value\": 1500000,\n",
      "            \"script\": \"76a914ab68025513c3dbd2f7b92a94e0581f5d50f654e788ac\"\n",
      "        },\n",
      "        {\n",
      "            \"value\": 8450000,\n",
      "            \"script\": \"76a9147f9b1a7fb68d60c536c2fd8aeaa53a8f3cc025a888ac\"\n",
      "        }\n",
      "    ],\n",
      "    \"version\": 1,\n",
      "    \"locktime\": 0\n",
      "}\n"
     ]
    }
   ],
   "source": [
    "#Deserializing\n",
    "deserialized_tx = bitcoin.deserialize(tx.decode())\n",
    "print('Deserialized transaction:')\n",
    "print(json.dumps(deserialized_tx, indent=4))"
   ]
  },
  {
   "cell_type": "code",
   "execution_count": 23,
   "metadata": {},
   "outputs": [
    {
     "name": "stdout",
     "output_type": "stream",
     "text": [
      "1st output script: 76a914ab68025513c3dbd2f7b92a94e0581f5d50f654e788ac\n",
      "Deserialized script: OP_DUP OP_HASH160 ab68025513c3dbd2f7b92a94e0581f5d50f654e7 OP_EQUALVERIFY OP_CHECKSIG\n"
     ]
    }
   ],
   "source": [
    "#Deserializing 1st output script\n",
    "script = deserialized_tx['outs'][0]['script']\n",
    "deserialized_script = bitcoin.deserialize_script(script)\n",
    "print('1st output script:', script)\n",
    "print('Deserialized script:', ' '.join(list(map(opcode_to_word, deserialized_script))))"
   ]
  },
  {
   "cell_type": "code",
   "execution_count": 29,
   "metadata": {},
   "outputs": [
    {
     "name": "stdout",
     "output_type": "stream",
     "text": [
      "1st input script (digital signature):\n",
      "483045022100884d142d86652a3f47ba4746ec719bbfbd040a570b1deccbb6498c75c4ae24cb02204b9f039ff08df09cbe9f6addac960298cad530a863ea8f53982c09db8f6e381301410484ecc0d46f1918b30928fa0e4ed99f16a0fb4fde0735e7ade8416ab9fe423cc5412336376789d172787ec3457eee41c04f4938de5cc17b4a10fa336a8d752adf\n",
      "\n",
      "Sig = (R, S)\n",
      "R: 61650733893590164207477587688588415609194348185876455223473721547793911129291\n",
      "S: 34204417344248643370177991773635004864182284445248039044681418183938145138707\n"
     ]
    }
   ],
   "source": [
    "#Deserializing 1st input script (digital signature)\n",
    "script = deserialized_tx['ins'][0]['script']\n",
    "deserialized_script = bitcoin.der_decode_sig(script[2:])\n",
    "_, R, S = deserialized_script\n",
    "print('1st input script (digital signature):', script, sep='\\n',  end='\\n\\n')\n",
    "print('Sig = (R, S)')\n",
    "print('R:', R)\n",
    "print('S:', S)"
   ]
  }
 ],
 "metadata": {
  "kernelspec": {
   "display_name": "Python 3",
   "language": "python",
   "name": "python3"
  },
  "language_info": {
   "codemirror_mode": {
    "name": "ipython",
    "version": 3
   },
   "file_extension": ".py",
   "mimetype": "text/x-python",
   "name": "python",
   "nbconvert_exporter": "python",
   "pygments_lexer": "ipython3",
   "version": "3.6.6"
  }
 },
 "nbformat": 4,
 "nbformat_minor": 2
}
