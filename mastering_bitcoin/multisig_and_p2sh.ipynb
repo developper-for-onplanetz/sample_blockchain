{
 "cells": [
  {
   "cell_type": "markdown",
   "metadata": {},
   "source": [
    "# Multisignature and P2SH (pay to script hash) scripts in Bitcoin"
   ]
  },
  {
   "cell_type": "markdown",
   "metadata": {},
   "source": [
    "## 1. Multisignature script"
   ]
  },
  {
   "cell_type": "code",
   "execution_count": 1,
   "metadata": {},
   "outputs": [],
   "source": [
    "import bitcoin  #pybitcointools\n",
    "from itertools import product"
   ]
  },
  {
   "cell_type": "code",
   "execution_count": 2,
   "metadata": {
    "scrolled": true
   },
   "outputs": [],
   "source": [
    "#Initializing\n",
    "\n",
    "M = 2 #Minimum number of signatures to approve the transaction (quorum)\n",
    "N = 3 #Number of all the signatures that can be provided\n",
    "priv_keys = [bitcoin.random_key() for _ in range(N)]\n",
    "pub_keys = [bitcoin.privkey_to_pubkey(priv_key) for priv_key in priv_keys]\n",
    "tx = 'Transaction example'\n",
    "tx_hash = bitcoin.txhash(tx)"
   ]
  },
  {
   "cell_type": "code",
   "execution_count": 3,
   "metadata": {},
   "outputs": [
    {
     "name": "stdout",
     "output_type": "stream",
     "text": [
      "Multisig locking script:\n",
      "\n",
      "2 04dd088448817e42324919162d769175ce7b5757845df8b1ea10c6709fdadb624c8fa1c8297e240a0957930facbd60cdb0248f40b03d098d76217e7293d4cc7147 04f37f1ff34a693eae99839379fb6ae8196b43d4c0dbc7e3eaa34d279fcba445558b97359fb12563323b67c3664f312c5d48bd77fdd2904e977567c68194173857 047a56b52936a7e750fffd04735b7ffcf529e084c086838ca764caacf0124e49b60f1a4eb4a97ea414f6b86b1742c8e5567087bef4a2878fa6ff587a119f3022a2 3 CHECKMULTISIG\n"
     ]
    }
   ],
   "source": [
    "#Locking script building\n",
    "\n",
    "locking_script = '{M} {pub_keys[0]} {pub_keys[1]} {pub_keys[2]} {N} CHECKMULTISIG'.format(M=M,\n",
    "                                                                                          pub_keys=pub_keys,\n",
    "                                                                                          N=N)\n",
    "print('Multisig locking script:', locking_script, sep='\\n\\n')"
   ]
  },
  {
   "cell_type": "code",
   "execution_count": 4,
   "metadata": {
    "scrolled": true
   },
   "outputs": [
    {
     "name": "stdout",
     "output_type": "stream",
     "text": [
      "Signature 0: 30440220497545ea68e7bf0b1e56ad6f26cc523f473409e282580876d33c75161078daf00220481abf8248a5ef77416a649e2e28a23d07e551c0d491b37b72aa4151685532b6\n",
      "\n",
      "Signature 1: 304402206ac21ee51ef38c373b7820e352bba444cba7b328b5af44366708f393756e852602204d5142596354f0826703a9e9c84ce3fa9d2c83c90ff0058f96238e675ea34c4a\n",
      "\n",
      "Signature 2: 304402207c21a86ed5838295c3d68056ea07f4d110803ef59155c0018ff3a6439eb346c002207736ae358132ad92965ac7bdda0378fcbdd45c483864a384f6816d12925f7c1c\n",
      "\n"
     ]
    }
   ],
   "source": [
    "#Making signatures (i.e. unlocking scripts)\n",
    "\n",
    "sigs = [bitcoin.ecdsa_raw_sign(tx_hash, priv_key) for priv_key in priv_keys]\n",
    "sigs\n",
    "der_encoded_sigs = [bitcoin.der_encode_sig(*sig) for sig in sigs]\n",
    "for i in range(N):\n",
    "    print('Signature {i}: {sig}'.format(i=i, sig=der_encoded_sigs[i]), end='\\n\\n')"
   ]
  },
  {
   "cell_type": "code",
   "execution_count": 5,
   "metadata": {
    "scrolled": true
   },
   "outputs": [
    {
     "name": "stdout",
     "output_type": "stream",
     "text": [
      "Multisig unlocking script:\n",
      "0 304402206ac21ee51ef38c373b7820e352bba444cba7b328b5af44366708f393756e852602204d5142596354f0826703a9e9c84ce3fa9d2c83c90ff0058f96238e675ea34c4a 304402207c21a86ed5838295c3d68056ea07f4d110803ef59155c0018ff3a6439eb346c002207736ae358132ad92965ac7bdda0378fcbdd45c483864a384f6816d12925f7c1c\n"
     ]
    }
   ],
   "source": [
    "#Unlocking script building\n",
    "#Starting with 0 by convention\n",
    "\n",
    "unlocking_script = '0 {sigs[1]} {sigs[2]}'.format(sigs=der_encoded_sigs)\n",
    "print('Multisig unlocking script:', unlocking_script, sep='\\n')"
   ]
  },
  {
   "cell_type": "code",
   "execution_count": 6,
   "metadata": {},
   "outputs": [
    {
     "name": "stdout",
     "output_type": "stream",
     "text": [
      "Successfully verified!\n"
     ]
    }
   ],
   "source": [
    "#Pushing both scripts to a stack\n",
    "#Comparing each signature with each public key until reaching M successful verifications\n",
    "\n",
    "def multisig_verify(lock, unlock, tx_hash):\n",
    "    stack = unlock.split() + lock.split()\n",
    "    if stack.pop() == 'CHECKMULTISIG':\n",
    "        N = int(stack.pop())\n",
    "        pub_keys = []\n",
    "        sigs = []\n",
    "        for _ in range(N):\n",
    "            pub_keys.append(stack.pop())\n",
    "        M = int(stack.pop())\n",
    "        for _ in range(M+1):\n",
    "            sigs.append(stack.pop())\n",
    "        sigs = [bitcoin.der_decode_sig(sig) for sig in sigs]\n",
    "        n_verified = 0\n",
    "        multi_verified = False\n",
    "        for sig, pub_key in product(sigs, pub_keys):\n",
    "            if bitcoin.ecdsa_raw_verify(tx_hash, sig, pub_key):\n",
    "                n_verified += 1\n",
    "            if n_verified == M:\n",
    "                multi_verified = True\n",
    "                break\n",
    "        return multi_verified\n",
    "    \n",
    "if multisig_verify(locking_script, unlocking_script, tx_hash):\n",
    "    print('Successfully verified!')"
   ]
  },
  {
   "cell_type": "markdown",
   "metadata": {},
   "source": [
    "## 2. P2SH script"
   ]
  },
  {
   "cell_type": "code",
   "execution_count": 7,
   "metadata": {},
   "outputs": [
    {
     "name": "stdout",
     "output_type": "stream",
     "text": [
      "P2SH script:\n",
      "\n",
      "HASH160 f1cddc958ce454f0ebf205fd3fed85e5b2c3dc61 EQUAl\n"
     ]
    }
   ],
   "source": [
    "#Constructing P2SH script\n",
    "\n",
    "#Arranging data types\n",
    "splitted = locking_script.split()\n",
    "splitted[0] = int(splitted[0]) \n",
    "splitted[4] = int(splitted[4])\n",
    "splitted[5] = 174  #CHECKMULTSIG opcode\n",
    "\n",
    "#Serializing and hashing\n",
    "serialized = bitcoin.serialize_script(splitted)\n",
    "redeem_hash = bitcoin.ripemd160(bitcoin.sha256(serialized))\n",
    "p2sh_locking = 'HASH160 {} EQUAl'.format(redeem_hash)\n",
    "print('P2SH script:', p2sh_locking, sep='\\n\\n')"
   ]
  },
  {
   "cell_type": "code",
   "execution_count": 8,
   "metadata": {},
   "outputs": [
    {
     "name": "stdout",
     "output_type": "stream",
     "text": [
      "P2SH address:\n",
      "\n",
      "3PjZPHypGh4bybzbBgDqT2yyUaXBghzyWd\n"
     ]
    }
   ],
   "source": [
    "#P2SH address (version prefix 5)\n",
    "p2sh_address = bitcoin.hex_to_b58check(redeem_hash, magicbyte=5)\n",
    "print('P2SH address:', p2sh_address, sep='\\n\\n')"
   ]
  }
 ],
 "metadata": {
  "kernelspec": {
   "display_name": "Python 3",
   "language": "python",
   "name": "python3"
  },
  "language_info": {
   "codemirror_mode": {
    "name": "ipython",
    "version": 3
   },
   "file_extension": ".py",
   "mimetype": "text/x-python",
   "name": "python",
   "nbconvert_exporter": "python",
   "pygments_lexer": "ipython3",
   "version": "3.6.6"
  }
 },
 "nbformat": 4,
 "nbformat_minor": 2
}
