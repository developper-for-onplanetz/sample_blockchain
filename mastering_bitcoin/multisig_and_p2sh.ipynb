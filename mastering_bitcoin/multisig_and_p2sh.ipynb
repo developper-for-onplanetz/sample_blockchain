{
 "cells": [
  {
   "cell_type": "markdown",
   "metadata": {},
   "source": [
    "# Multisignature and P2SH (pay to script hash) scripts in Bitcoin"
   ]
  },
  {
   "cell_type": "markdown",
   "metadata": {},
   "source": [
    "## 1. Multisignature script"
   ]
  },
  {
   "cell_type": "code",
   "execution_count": 3,
   "metadata": {},
   "outputs": [],
   "source": [
    "import bitcoin  #pybitcointools\n",
    "from itertools import product\n",
    "import binascii"
   ]
  },
  {
   "cell_type": "code",
   "execution_count": 4,
   "metadata": {
    "scrolled": true
   },
   "outputs": [],
   "source": [
    "#Initializing\n",
    "\n",
    "M = 2 #Minimum number of signatures to approve the transaction (quorum)\n",
    "N = 3 #Number of all the signatures that can be provided\n",
    "priv_keys = [bitcoin.random_key() for _ in range(N)]\n",
    "pub_keys = [bitcoin.privkey_to_pubkey(priv_key) for priv_key in priv_keys]\n",
    "tx = 'Transaction example'\n",
    "tx_hash = bitcoin.txhash(tx)"
   ]
  },
  {
   "cell_type": "code",
   "execution_count": 5,
   "metadata": {},
   "outputs": [
    {
     "name": "stdout",
     "output_type": "stream",
     "text": [
      "Multisig locking script:\n",
      "\n",
      "2 04a7ee4a9d87975b45133a5055d3a49efd5e021f888075c43798c34595990bdf0321af3e79cf188263be8a122870c4f1064cf2e4dbf9da2cbbe3d1693a5b8a47fc 04050e9f2915eeb069599eb1b9eb340b18637ab1f02cc5a9d9ef50c6a3abe66b741eee4882a28128ee2b59c345a2c526e1bcd9b507954520eb70e4f3aade3b2c15 04de2a82e3204697bf7ab35d74854fb683f8737c1532547aa41071933f78a0636a2ddb6eb4e1763b6788e6ce244155d6718c5b9f503244f35f6a667f9796348523 3 CHECKMULTISIG\n"
     ]
    }
   ],
   "source": [
    "#Locking script building\n",
    "\n",
    "locking_script = '{M} {pub_keys[0]} {pub_keys[1]} {pub_keys[2]} {N} CHECKMULTISIG'.format(M=M,\n",
    "                                                                                          pub_keys=pub_keys,\n",
    "                                                                                          N=N)\n",
    "print('Multisig locking script:', locking_script, sep='\\n\\n')"
   ]
  },
  {
   "cell_type": "code",
   "execution_count": 6,
   "metadata": {
    "scrolled": true
   },
   "outputs": [
    {
     "name": "stdout",
     "output_type": "stream",
     "text": [
      "Signature 0: 304402202b26ca18e05fd7493f3bbdb34ae13b9594752e6276d75505021f289db8956295022011431d929288ecef4ebb01c6cb69502623d987f43248c3591222f067aada9430\n",
      "\n",
      "Signature 1: 3045022100b2c8f855b1d5e53483219939bbfd48670c3d5e5ad973f5ccd0c244d94d76877a02206b5e53d05d6b6bdcb7a8b6b8ffb38f2d1f04b353c541e4d40d87aa73c8a70ad4\n",
      "\n",
      "Signature 2: 3044022015c0bd2c9252a589f811ce6b4359199d3918cd6d84fa8a48e7aa68f91907603802203e8541c3c67a7d3d203312070922e6a5b6d7258877cd8e946bf5fa6c8b9d2c24\n",
      "\n"
     ]
    }
   ],
   "source": [
    "#Making signatures (i.e. unlocking scripts)\n",
    "\n",
    "sigs = [bitcoin.ecdsa_raw_sign(tx_hash, priv_key) for priv_key in priv_keys]\n",
    "sigs\n",
    "der_encoded_sigs = [bitcoin.der_encode_sig(*sig) for sig in sigs]\n",
    "for i in range(N):\n",
    "    print('Signature {i}: {sig}'.format(i=i, sig=der_encoded_sigs[i]), end='\\n\\n')"
   ]
  },
  {
   "cell_type": "code",
   "execution_count": 7,
   "metadata": {
    "scrolled": true
   },
   "outputs": [
    {
     "name": "stdout",
     "output_type": "stream",
     "text": [
      "Multisig unlocking script:\n",
      "0 3045022100b2c8f855b1d5e53483219939bbfd48670c3d5e5ad973f5ccd0c244d94d76877a02206b5e53d05d6b6bdcb7a8b6b8ffb38f2d1f04b353c541e4d40d87aa73c8a70ad4 3044022015c0bd2c9252a589f811ce6b4359199d3918cd6d84fa8a48e7aa68f91907603802203e8541c3c67a7d3d203312070922e6a5b6d7258877cd8e946bf5fa6c8b9d2c24\n"
     ]
    }
   ],
   "source": [
    "#Unlocking script building\n",
    "#Starting with 0 by convention\n",
    "\n",
    "unlocking_script = '0 {sigs[1]} {sigs[2]}'.format(sigs=der_encoded_sigs)\n",
    "print('Multisig unlocking script:', unlocking_script, sep='\\n')"
   ]
  },
  {
   "cell_type": "code",
   "execution_count": 8,
   "metadata": {},
   "outputs": [
    {
     "name": "stdout",
     "output_type": "stream",
     "text": [
      "Successfully verified!\n"
     ]
    }
   ],
   "source": [
    "#Pushing both scripts to a stack\n",
    "#Comparing each signature with each public key until reaching M successful verifications\n",
    "\n",
    "def multisig_verify(lock, unlock, tx_hash):\n",
    "    stack = unlock.split() + lock.split()\n",
    "    if stack.pop() == 'CHECKMULTISIG':\n",
    "        N = int(stack.pop())\n",
    "        pub_keys = []\n",
    "        sigs = []\n",
    "        for _ in range(N):\n",
    "            pub_keys.append(stack.pop())\n",
    "        M = int(stack.pop())\n",
    "        for _ in range(M+1):\n",
    "            sigs.append(stack.pop())\n",
    "        sigs = [bitcoin.der_decode_sig(sig) for sig in sigs]\n",
    "        n_verified = 0\n",
    "        multi_verified = False\n",
    "        for sig, pub_key in product(sigs, pub_keys):\n",
    "            if bitcoin.ecdsa_raw_verify(tx_hash, sig, pub_key):\n",
    "                n_verified += 1\n",
    "            if n_verified == M:\n",
    "                multi_verified = True\n",
    "                break\n",
    "        return multi_verified\n",
    "    \n",
    "if multisig_verify(locking_script, unlocking_script, tx_hash):\n",
    "    print('Successfully verified!')"
   ]
  },
  {
   "cell_type": "markdown",
   "metadata": {},
   "source": [
    "## 2. P2SH script"
   ]
  },
  {
   "cell_type": "code",
   "execution_count": 9,
   "metadata": {},
   "outputs": [
    {
     "name": "stdout",
     "output_type": "stream",
     "text": [
      "P2SH script:\n",
      "\n",
      "HASH160 975b081d08842448dee89908e9161d55e81d2815 EQUAl\n"
     ]
    }
   ],
   "source": [
    "#Constructing P2SH script\n",
    "\n",
    "#Arranging data types\n",
    "splitted = locking_script.split()\n",
    "splitted[0] = int(splitted[0]) \n",
    "splitted[4] = int(splitted[4])\n",
    "splitted[5] = 174  #CHECKMULTSIG opcode\n",
    "\n",
    "#Serializing and hashing\n",
    "serialized = bitcoin.serialize_script(splitted)\n",
    "redeem_hash = bitcoin.hash160(binascii.unhexlify(serialized))\n",
    "p2sh_locking = 'HASH160 {} EQUAl'.format(redeem_hash)\n",
    "print('P2SH script:', p2sh_locking, sep='\\n\\n')"
   ]
  },
  {
   "cell_type": "code",
   "execution_count": 10,
   "metadata": {},
   "outputs": [
    {
     "name": "stdout",
     "output_type": "stream",
     "text": [
      "P2SH address:\n",
      "\n",
      "3FVK1W8Z973c1ucTfXqRaeqgFbK9ny9Kd2\n"
     ]
    }
   ],
   "source": [
    "#P2SH address (version prefix 5)\n",
    "p2sh_address = bitcoin.hex_to_b58check(redeem_hash, magicbyte=5)\n",
    "print('P2SH address:', p2sh_address, sep='\\n\\n')"
   ]
  }
 ],
 "metadata": {
  "kernelspec": {
   "display_name": "Python 3",
   "language": "python",
   "name": "python3"
  },
  "language_info": {
   "codemirror_mode": {
    "name": "ipython",
    "version": 3
   },
   "file_extension": ".py",
   "mimetype": "text/x-python",
   "name": "python",
   "nbconvert_exporter": "python",
   "pygments_lexer": "ipython3",
   "version": "3.6.6"
  }
 },
 "nbformat": 4,
 "nbformat_minor": 2
}
