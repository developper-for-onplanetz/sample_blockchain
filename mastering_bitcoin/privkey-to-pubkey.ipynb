{
 "cells": [
  {
   "cell_type": "markdown",
   "metadata": {},
   "source": [
    "# Bitcoin public key derivation using elliptic curves\n",
    " secp256k1, http://www.oid-info.com/get/1.3.132.0.10"
   ]
  },
  {
   "cell_type": "code",
   "execution_count": 5,
   "metadata": {},
   "outputs": [],
   "source": [
    "import ecdsa\n",
    "import os\n",
    "import binascii"
   ]
  },
  {
   "cell_type": "code",
   "execution_count": 6,
   "metadata": {},
   "outputs": [],
   "source": [
    "_p = 0xFFFFFFFFFFFFFFFFFFFFFFFFFFFFFFFFFFFFFFFFFFFFFFFFFFFFFFFEFFFFFC2F\n",
    "_n = 0xFFFFFFFFFFFFFFFFFFFFFFFFFFFFFFFEBAAEDCE6AF48A03BBFD25E8CD0364141\n",
    "_b = 0x0000000000000000000000000000000000000000000000000000000000000007\n",
    "_a = 0x0000000000000000000000000000000000000000000000000000000000000000\n",
    "_Gx = 0x79BE667EF9DCBBAC55A06295CE870B07029BFCDB2DCE28D959F2815B16F81798\n",
    "_Gy = 0x483ada7726a3c4655da4fbfc0e1108a8fd17b448a68554199c47d08ffb10d4b8"
   ]
  },
  {
   "cell_type": "markdown",
   "metadata": {},
   "source": [
    "$$ E: y^2\\equiv x^3+ax+b \\mod{p} $$\n",
    "$$ n\\times G=O$$ \n"
   ]
  },
  {
   "cell_type": "code",
   "execution_count": 7,
   "metadata": {},
   "outputs": [],
   "source": [
    "curve = ecdsa.ellipticcurve.CurveFp(_p, _a, _b)\n",
    "generator = ecdsa.ellipticcurve.Point(curve, _Gx, _Gy, _n)\n",
    "oid = (1, 3, 132, 0, 10)\n",
    "SECP256k1 = ecdsa.curves.Curve(\"SECP256k1\", curve,\n",
    "                               generator, oid)"
   ]
  },
  {
   "cell_type": "code",
   "execution_count": 8,
   "metadata": {},
   "outputs": [],
   "source": [
    "def random_secret():\n",
    "    return int(binascii.hexlify(os.urandom(32)).decode(), 16)"
   ]
  },
  {
   "cell_type": "code",
   "execution_count": 9,
   "metadata": {},
   "outputs": [],
   "source": [
    "def get_point_pubkey(point):\n",
    "    if (point.y() % 2) == 1:\n",
    "        key = '03' + '%064x' % point.x()\n",
    "    else:\n",
    "        key = '02' + '%064x' % point.x()\n",
    "    return key"
   ]
  },
  {
   "cell_type": "code",
   "execution_count": 10,
   "metadata": {},
   "outputs": [],
   "source": [
    "def get_point_pubkey_uncompressed(point):\n",
    "    key = ('04' +\n",
    "           '%064x' % point.x() +\n",
    "           '%064x' % point.y())\n",
    "    return key"
   ]
  },
  {
   "cell_type": "code",
   "execution_count": 11,
   "metadata": {},
   "outputs": [
    {
     "name": "stdout",
     "output_type": "stream",
     "text": [
      "Secret:  61929071218865355381816694599708315367398023977912606045201298088213638508964\n"
     ]
    }
   ],
   "source": [
    "secret = random_secret()\n",
    "print(\"Secret: \", secret)\n",
    "secret = int(0x038109007313a5807b2eccc082c8c3fbb988a973cacf1a7df9ce725c31b14776)"
   ]
  },
  {
   "cell_type": "code",
   "execution_count": 12,
   "metadata": {},
   "outputs": [
    {
     "name": "stdout",
     "output_type": "stream",
     "text": [
      "EC point:\n",
      "x = 0x2a406624211f2abbdc68da3df929f938c3399dd79fac1b51b0e4ad1d26a47aa\n",
      "y = 0x9f3bc9f3948a19dabb796a2a744aae50367ce38a3e6b60ae7d72159caeb0c102\n"
     ]
    }
   ],
   "source": [
    "point = secret * generator\n",
    "print(\"EC point:\")\n",
    "print('x = {}'.format(hex(point.x())))\n",
    "print('y = {}'.format(hex(point.y())))"
   ]
  },
  {
   "cell_type": "code",
   "execution_count": 13,
   "metadata": {},
   "outputs": [
    {
     "name": "stdout",
     "output_type": "stream",
     "text": [
      "BTC public key: 0202a406624211f2abbdc68da3df929f938c3399dd79fac1b51b0e4ad1d26a47aa\n",
      "BTC public key uncompressed: 0402a406624211f2abbdc68da3df929f938c3399dd79fac1b51b0e4ad1d26a47aa9f3bc9f3948a19dabb796a2a744aae50367ce38a3e6b60ae7d72159caeb0c102\n"
     ]
    }
   ],
   "source": [
    "print(\"BTC public key:\", get_point_pubkey(point))\n",
    "print(\"BTC public key uncompressed:\", get_point_pubkey_uncompressed(point))"
   ]
  }
 ],
 "metadata": {
  "kernelspec": {
   "display_name": "Python 3",
   "language": "python",
   "name": "python3"
  },
  "language_info": {
   "codemirror_mode": {
    "name": "ipython",
    "version": 3
   },
   "file_extension": ".py",
   "mimetype": "text/x-python",
   "name": "python",
   "nbconvert_exporter": "python",
   "pygments_lexer": "ipython3",
   "version": "3.7.0"
  }
 },
 "nbformat": 4,
 "nbformat_minor": 2
}
