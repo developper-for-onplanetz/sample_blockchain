{
 "cells": [
  {
   "cell_type": "markdown",
   "metadata": {},
   "source": [
    "# Example of the Proof-of-Work algorithm in Bitcoin"
   ]
  },
  {
   "cell_type": "code",
   "execution_count": 1,
   "metadata": {},
   "outputs": [],
   "source": [
    "from hashlib import sha256\n",
    "import time"
   ]
  },
  {
   "cell_type": "code",
   "execution_count": 2,
   "metadata": {},
   "outputs": [],
   "source": [
    "#The Proof-of-Work algortihm searching for a nonce such that hash(header+nonce) < target\n",
    "def proof_of_work(header, difficulty_bits):\n",
    "    target = pow(2, 256 - difficulty_bits)\n",
    "    nonce = 0\n",
    "    \n",
    "    start = time.time()\n",
    "    while True:\n",
    "        hashed_str = sha256((header + str(nonce)).encode()).hexdigest()\n",
    "        if int(hashed_str, 16) < target: break\n",
    "        nonce += 1\n",
    "    end = time.time()\n",
    "    \n",
    "    return nonce, hashed_str, end-start"
   ]
  },
  {
   "cell_type": "code",
   "execution_count": 3,
   "metadata": {},
   "outputs": [
    {
     "name": "stdout",
     "output_type": "stream",
     "text": [
      "Header: 'Some header'\n",
      "Difficulty bits: 1\n",
      "Nonce: 0\n",
      "Hash: 5b754b3a59a36197a6d5d4a393eb0d7a549b1dfede179116800eeda838ee6899\n",
      "Time elapsed: 1.0967254638671875e-05 seconds\n",
      "\n",
      "Header: 'Some header'\n",
      "Difficulty bits: 2\n",
      "Nonce: 4\n",
      "Hash: 34f0accf0530b83e6b9c9735c6d16d647085c24a2fa7a154cda89f26147b0dd2\n",
      "Time elapsed: 2.5987625122070312e-05 seconds\n",
      "\n",
      "Header: 'Some header'\n",
      "Difficulty bits: 8\n",
      "Nonce: 43\n",
      "Hash: 003117a05d49705ed611426132481e3fd4659fa6a5693d8dade5552f58e9d87e\n",
      "Time elapsed: 0.0001049041748046875 seconds\n",
      "\n",
      "Header: 'Some header'\n",
      "Difficulty bits: 16\n",
      "Nonce: 162554\n",
      "Hash: 000077378f098ac7680d99a38a3ac4298842c25c71cb11d1d51f62cdaef9481a\n",
      "Time elapsed: 0.41200709342956543 seconds\n",
      "\n",
      "Header: 'Some header'\n",
      "Difficulty bits: 22\n",
      "Nonce: 16971579\n",
      "Hash: 0000003830452b60453927136aeaa0f62478b1b5ffb7e7111e0378e232c464e3\n",
      "Time elapsed: 41.285654067993164 seconds\n",
      "\n"
     ]
    }
   ],
   "source": [
    "#Conducting Proof-of-Work for various difficulties\n",
    "header= 'Some header'\n",
    "difficulty_bits_list = [1, 2, 8, 16, 22]\n",
    "for difficulty_bits in difficulty_bits_list:\n",
    "    nonce, hashed_str, duration = proof_of_work(header, difficulty_bits)\n",
    "    print('Header:', repr(header))\n",
    "    print('Difficulty bits:', difficulty_bits)\n",
    "    print('Nonce:', nonce)\n",
    "    print('Hash:', hashed_str)\n",
    "    print('Time elapsed: {} seconds'.format(duration), end='\\n\\n')"
   ]
  }
 ],
 "metadata": {
  "kernelspec": {
   "display_name": "Python 3",
   "language": "python",
   "name": "python3"
  },
  "language_info": {
   "codemirror_mode": {
    "name": "ipython",
    "version": 3
   },
   "file_extension": ".py",
   "mimetype": "text/x-python",
   "name": "python",
   "nbconvert_exporter": "python",
   "pygments_lexer": "ipython3",
   "version": "3.6.6"
  }
 },
 "nbformat": 4,
 "nbformat_minor": 2
}
