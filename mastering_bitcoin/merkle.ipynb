{
 "cells": [
  {
   "cell_type": "markdown",
   "metadata": {},
   "source": [
    "# Merkle Tree"
   ]
  },
  {
   "cell_type": "code",
   "execution_count": 1,
   "metadata": {},
   "outputs": [],
   "source": [
    "import bitcoin #pybitcointools\n",
    "from bitcoin import sha256\n",
    "import binascii"
   ]
  },
  {
   "cell_type": "code",
   "execution_count": 2,
   "metadata": {},
   "outputs": [],
   "source": [
    "class Merkle:\n",
    "    '''\n",
    "    Merkle tree\n",
    "    \n",
    "    Used for storing transactions in the blockchain\n",
    "    '''\n",
    "    def __init__(self, txs):\n",
    "        txs_hashes = [sha256(binascii.unhexlify(tx)) for tx in txs]\n",
    "        self.levels = list()\n",
    "        self._build(txs_hashes)\n",
    "        \n",
    "    def _build(self, leaves):\n",
    "        if len(leaves) == 1:\n",
    "            self.levels.append(leaves)\n",
    "            return None\n",
    "        elif len(leaves) % 2 == 1:\n",
    "            leaves.append(leaves[-1])\n",
    "        self.levels.append(leaves)\n",
    "        new_level = list()\n",
    "        for i in range(len(leaves)//2):\n",
    "            new_level.append(sha256(binascii.unhexlify(leaves[i*2] + leaves[i*2 + 1])))\n",
    "        self._build(new_level)\n",
    "        \n",
    "    def show(self):\n",
    "        for level in reversed(self.levels):\n",
    "            print(level)\n",
    "            \n",
    "    def get_root(self):\n",
    "        return self.levels[-1][0]\n",
    "    \n",
    "    def get_path(self, tx_hash):\n",
    "        idx = self.levels[0].index(tx_hash) \n",
    "        path = list()\n",
    "        for i in range(len(self.levels)-1):\n",
    "            if idx % 2 == 0:\n",
    "                path_idx = idx + 1\n",
    "            else:\n",
    "                path_idx = idx - 1\n",
    "            path.append(self.levels[i][path_idx])\n",
    "            idx = idx // 2\n",
    "        return path\n",
    "        \n",
    "    def path_verify(self, tx_hash, path):\n",
    "        res = tx_hash\n",
    "        for node in path:\n",
    "            res = sha256(binascii.unhexlify(res + node))\n",
    "        return res == self.get_root()"
   ]
  },
  {
   "cell_type": "code",
   "execution_count": 3,
   "metadata": {},
   "outputs": [],
   "source": [
    "txs = ['0000000000000000000000000000000000000000000000000000000000000000',\n",
    "       '0000000000000000000000000000000000000000000000000000000000000011',\n",
    "       '0000000000000000000000000000000000000000000000000000000000000022']\n",
    "tree = Merkle(txs)"
   ]
  },
  {
   "cell_type": "code",
   "execution_count": 4,
   "metadata": {},
   "outputs": [
    {
     "name": "stdout",
     "output_type": "stream",
     "text": [
      "['34ca81403f7450b6c82dc28d54dc495f4f024d0b46e4cf7d687c9530941b1ee7']\n",
      "['a8a6080ff7c50ce21c2d367239dce9e9612fa0da51a0a2173c1430a36fe35ad9', 'd7643aef6e9059376a8b6647230aaf30a7fd873da89a83f96bbf93e17b27354f']\n",
      "['66687aadf862bd776c8fc18b8e9f8e20089714856ee233b3902a591d0d5f2925', '99fdc3a44c06c65a307ea38acda009243287ccbbdb2b0ce423a25bb9b525d7f2', '46f3ce0180a8791e8c622020c2bbdf688405a3e3cf9a8061309dc71fcaa4b7ac', '46f3ce0180a8791e8c622020c2bbdf688405a3e3cf9a8061309dc71fcaa4b7ac']\n"
     ]
    }
   ],
   "source": [
    "tree.show()"
   ]
  },
  {
   "cell_type": "code",
   "execution_count": 5,
   "metadata": {},
   "outputs": [
    {
     "name": "stdout",
     "output_type": "stream",
     "text": [
      "['99fdc3a44c06c65a307ea38acda009243287ccbbdb2b0ce423a25bb9b525d7f2', 'd7643aef6e9059376a8b6647230aaf30a7fd873da89a83f96bbf93e17b27354f']\n"
     ]
    }
   ],
   "source": [
    "path = tree.get_path('66687aadf862bd776c8fc18b8e9f8e20089714856ee233b3902a591d0d5f2925')\n",
    "print(path)"
   ]
  },
  {
   "cell_type": "code",
   "execution_count": 6,
   "metadata": {},
   "outputs": [
    {
     "data": {
      "text/plain": [
       "True"
      ]
     },
     "execution_count": 6,
     "metadata": {},
     "output_type": "execute_result"
    }
   ],
   "source": [
    "tree.path_verify('66687aadf862bd776c8fc18b8e9f8e20089714856ee233b3902a591d0d5f2925', path)"
   ]
  }
 ],
 "metadata": {
  "kernelspec": {
   "display_name": "Python 3",
   "language": "python",
   "name": "python3"
  },
  "language_info": {
   "codemirror_mode": {
    "name": "ipython",
    "version": 3
   },
   "file_extension": ".py",
   "mimetype": "text/x-python",
   "name": "python",
   "nbconvert_exporter": "python",
   "pygments_lexer": "ipython3",
   "version": "3.6.6"
  }
 },
 "nbformat": 4,
 "nbformat_minor": 2
}
