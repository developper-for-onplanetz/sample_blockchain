{
 "cells": [
  {
   "cell_type": "markdown",
   "metadata": {},
   "source": [
    "# SPV nodes Bloom filter concept "
   ]
  },
  {
   "cell_type": "code",
   "execution_count": 1,
   "metadata": {},
   "outputs": [],
   "source": [
    "import bitcoin\n",
    "import hashlib"
   ]
  },
  {
   "cell_type": "code",
   "execution_count": 2,
   "metadata": {},
   "outputs": [
    {
     "name": "stdout",
     "output_type": "stream",
     "text": [
      "Bloom filter initializing: [0, 0, 0, 0, 0, 0, 0, 0, 0, 0, 0, 0, 0, 0, 0, 0]\n"
     ]
    }
   ],
   "source": [
    "#Using N=16 length filter with M=3 hash functions (chosen just for example)\n",
    "N = 16 #filter length\n",
    "M = 3 #number of hash functions\n",
    "hash_functions = [hashlib.sha256, hashlib.sha512, hashlib.md5]\n",
    "bloom_filter = [0] * N\n",
    "print('Bloom filter initializing:', bloom_filter)"
   ]
  },
  {
   "cell_type": "code",
   "execution_count": 3,
   "metadata": {},
   "outputs": [
    {
     "name": "stdout",
     "output_type": "stream",
     "text": [
      "New bits: [13, 5, 9]\n",
      "\n",
      "Updated filter: [0, 0, 0, 0, 0, 1, 0, 0, 0, 1, 0, 0, 0, 1, 0, 0]\n"
     ]
    }
   ],
   "source": [
    "#Adding a pattern 'A'\n",
    "pattern = 'A'\n",
    "new_bits = [int(hash_functions[i](pattern.encode()).hexdigest(), 16) % N for i in range(M)]\n",
    "print('New bits:', new_bits, end='\\n\\n')\n",
    "for i in new_bits:\n",
    "    bloom_filter[i] = 1\n",
    "print('Updated filter:', bloom_filter)"
   ]
  },
  {
   "cell_type": "code",
   "execution_count": 4,
   "metadata": {},
   "outputs": [
    {
     "name": "stdout",
     "output_type": "stream",
     "text": [
      "New bits: [12, 15, 1]\n",
      "\n",
      "Updated filter: [0, 1, 0, 0, 0, 1, 0, 0, 0, 1, 0, 0, 1, 1, 0, 1]\n"
     ]
    }
   ],
   "source": [
    "#Adding a pattern 'B'\n",
    "pattern = 'B'\n",
    "new_bits = [int(hash_functions[i](pattern.encode()).hexdigest(), 16) % N for i in range(M)]\n",
    "print('New bits:', new_bits, end='\\n\\n')\n",
    "for i in new_bits:\n",
    "    bloom_filter[i] = 1\n",
    "print('Updated filter:', bloom_filter)"
   ]
  },
  {
   "cell_type": "code",
   "execution_count": 5,
   "metadata": {},
   "outputs": [
    {
     "name": "stdout",
     "output_type": "stream",
     "text": [
      "Is pattern 'r' included?\n",
      "\n",
      "Checking bits: [1, 12, 1]\n",
      "\n",
      "Maybe, Yes\n"
     ]
    }
   ],
   "source": [
    "#Testing the existence of pattern 'r'\n",
    "pattern = 'r'\n",
    "print(\"Is pattern '{}' included?\".format(pattern), end='\\n\\n')\n",
    "check_bits = [int(hash_functions[i](pattern.encode()).hexdigest(), 16) % N for i in range(M)]\n",
    "print('Checking bits:', check_bits, end='\\n\\n')\n",
    "is_verified = True\n",
    "for i in check_bits:\n",
    "    if bloom_filter[i] != 1:\n",
    "        print('Definitely Not!')\n",
    "        is_verified = False\n",
    "        break\n",
    "if is_verified:\n",
    "    print('Maybe, Yes')"
   ]
  },
  {
   "cell_type": "code",
   "execution_count": 6,
   "metadata": {},
   "outputs": [
    {
     "name": "stdout",
     "output_type": "stream",
     "text": [
      "Is pattern 'J' included?\n",
      "\n",
      "Checking bits: [5, 4, 5]\n",
      "\n",
      "Definitely Not!\n"
     ]
    }
   ],
   "source": [
    "#Testing the existence of pattern 'J'\n",
    "pattern = 'J'\n",
    "print(\"Is pattern '{}' included?\".format(pattern), end='\\n\\n')\n",
    "check_bits = [int(hash_functions[i](pattern.encode()).hexdigest(), 16) % N for i in range(M)]\n",
    "print('Checking bits:', check_bits, end='\\n\\n')\n",
    "is_verified = True\n",
    "for i in check_bits:\n",
    "    if bloom_filter[i] != 1:\n",
    "        print('Definitely Not!')\n",
    "        is_verified = False\n",
    "        break\n",
    "if is_verified:\n",
    "    print('Maybe, Yes')"
   ]
  }
 ],
 "metadata": {
  "kernelspec": {
   "display_name": "Python 3",
   "language": "python",
   "name": "python3"
  },
  "language_info": {
   "codemirror_mode": {
    "name": "ipython",
    "version": 3
   },
   "file_extension": ".py",
   "mimetype": "text/x-python",
   "name": "python",
   "nbconvert_exporter": "python",
   "pygments_lexer": "ipython3",
   "version": "3.6.6"
  }
 },
 "nbformat": 4,
 "nbformat_minor": 2
}
