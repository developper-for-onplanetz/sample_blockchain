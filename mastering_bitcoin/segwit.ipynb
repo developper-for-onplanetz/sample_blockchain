{
 "cells": [
  {
   "cell_type": "markdown",
   "metadata": {},
   "source": [
    "# Segregated Witness in Bitcoin"
   ]
  },
  {
   "cell_type": "code",
   "execution_count": 135,
   "metadata": {},
   "outputs": [],
   "source": [
    "import bitcoin  #pybitcointools\n",
    "import binascii\n",
    "from pycoin.tx.script.opcodes import OPCODE_LIST; opcodes = dict(OPCODE_LIST) #script opcodes"
   ]
  },
  {
   "cell_type": "markdown",
   "metadata": {},
   "source": [
    "## P2WPKH (pay-to-witness-public-key-hash)"
   ]
  },
  {
   "cell_type": "code",
   "execution_count": 204,
   "metadata": {},
   "outputs": [
    {
     "name": "stdout",
     "output_type": "stream",
     "text": [
      "Redeem script: 0 ab68025513c3dbd2f7b92a94e0581f5d50f654e7\n"
     ]
    }
   ],
   "source": [
    "#First we generate a witness program(redeem script) from the public key hash with witness version 0\n",
    "public_key_hash = 'ab68025513c3dbd2f7b92a94e0581f5d50f654e7'\n",
    "witness_version = 0\n",
    "witness_program = str(witness_version) + ' ' + public_key_hash\n",
    "print('Redeem script:', witness_program)"
   ]
  },
  {
   "cell_type": "code",
   "execution_count": 205,
   "metadata": {},
   "outputs": [
    {
     "name": "stdout",
     "output_type": "stream",
     "text": [
      "Redeem script hash: 3e0547268b3b19288b3adef9719ec8659f4b2b0b\n",
      "\n",
      "P2SH address: 37Lx99uaGn5avKBxiW26HjedQE3LrDCZru\n"
     ]
    }
   ],
   "source": [
    "#Then hashing the script(sha256+ripemd160) and making an address from it\n",
    "deserialized_script = [None, public_key_hash]\n",
    "serialized_script = bitcoin.serialize_script(deserialized_script)\n",
    "redeem_hash = bitcoin.hash160(binascii.unhexlify(serialized_script))\n",
    "print('Redeem script hash:', redeem_hash, end='\\n\\n')\n",
    "p2sh_address = bitcoin.hex_to_b58check(redeem_hash, magicbyte=5)\n",
    "print('P2SH address:', p2sh_address)"
   ]
  },
  {
   "cell_type": "markdown",
   "metadata": {},
   "source": [
    "## P2WSH (pay-to-witness-script-hash)"
   ]
  },
  {
   "cell_type": "code",
   "execution_count": 209,
   "metadata": {
    "scrolled": true
   },
   "outputs": [
    {
     "name": "stdout",
     "output_type": "stream",
     "text": [
      "Redeem script:\n",
      "2 04C16B8698A9ABF84250A7C3EA7EEDEF9897D1C8C6ADF47F06CF73370D74DCCA01CDCA79DCC5C395D7EEC6984D83F1F50C900A24DD47F569FD4193AF5DE762C587 04A2192968D8655D6A935BEAF2CA23E3FB87A3495E7AF308EDF08DAC3C1FCBFC2C75B4B0F4D0B1B70CD2423657738C0C2B1D5CE65C97D78D0E34224858008E8B49 047E63248B75DB7379BE9CDA8CE5751D16485F431E46117B9D0C1837C9D5737812F393DA7D4420D7E1A9162F0279CFC10F1E8E8F3020DECDBC3C0DD389D9977965 0421D65CBD7149B255382ED7F78E946580657EE6FDA162A187543A9D85BAAA93A4AB3A8F044DADA618D087227440645ABE8A35DA8C5B73997AD343BE5C2AFD94A5 043752580AFA1ECED3C68D446BCAB69AC0BA7DF50D56231BE0AABF1FDEEC78A6A45E394BA29A1EDF518C022DD618DA774D207D137AAB59E0B000EB7ED238F4D800 5 OP_CHECKMULTISIG\n",
      "\n",
      "Redeem script hash: a9b7b38d972cabc7961dbfbcb841ad4508d133c47ba87457b4a0e8aae86dbb89\n",
      "\n"
     ]
    }
   ],
   "source": [
    "#Generating script hash(sha256)\n",
    "public_keys = ['04C16B8698A9ABF84250A7C3EA7EEDEF9897D1C8C6ADF47F06CF73370D74DCCA01CDCA79DCC5C395D7EEC6984D83F1F50C900A24DD47F569FD4193AF5DE762C587',\n",
    "               '04A2192968D8655D6A935BEAF2CA23E3FB87A3495E7AF308EDF08DAC3C1FCBFC2C75B4B0F4D0B1B70CD2423657738C0C2B1D5CE65C97D78D0E34224858008E8B49',\n",
    "               '047E63248B75DB7379BE9CDA8CE5751D16485F431E46117B9D0C1837C9D5737812F393DA7D4420D7E1A9162F0279CFC10F1E8E8F3020DECDBC3C0DD389D9977965',\n",
    "               '0421D65CBD7149B255382ED7F78E946580657EE6FDA162A187543A9D85BAAA93A4AB3A8F044DADA618D087227440645ABE8A35DA8C5B73997AD343BE5C2AFD94A5',\n",
    "               '043752580AFA1ECED3C68D446BCAB69AC0BA7DF50D56231BE0AABF1FDEEC78A6A45E394BA29A1EDF518C022DD618DA774D207D137AAB59E0B000EB7ED238F4D800']\n",
    "deserialized_script = [opcodes['OP_2']] + [key.lower() for key in public_keys] + \\\n",
    "                      [opcodes['OP_5'], opcodes['OP_CHECKMULTISIG']]\n",
    "print('Redeem script:', '2 '+' '.join(public_keys)+' 5 OP_CHECKMULTISIG', sep='\\n', end='\\n\\n')\n",
    "serialized_script = bitcoin.serialize_script(deserialized_script)\n",
    "redeem_hash = bitcoin.sha256(binascii.unhexlify(serialized_script))\n",
    "print('Redeem script hash:', redeem_hash, end='\\n\\n')"
   ]
  },
  {
   "cell_type": "code",
   "execution_count": 217,
   "metadata": {
    "scrolled": true
   },
   "outputs": [
    {
     "name": "stdout",
     "output_type": "stream",
     "text": [
      "Witness program: 0 a9b7b38d972cabc7961dbfbcb841ad4508d133c47ba87457b4a0e8aae86dbb89\n",
      "Witness hash: cc96290ab08a864872ba8582ce040b3b5fff04c1\n",
      "P2SH address: 3LLmezu5fi9cCDV22AirCMLz2w8TFu9AU9\n"
     ]
    }
   ],
   "source": [
    "#Making witness program, its hash and address\n",
    "witness_version = 0\n",
    "witness_program = str(witness_version) + ' ' + redeem_hash\n",
    "print('Witness program:', witness_program)\n",
    "script = [None, redeem_hash]\n",
    "serialized_script = bitcoin.serialize_script(script)\n",
    "witness_hash = bitcoin.hash160(binascii.unhexlify(serialized_script))\n",
    "print('Witness hash:', witness_hash)\n",
    "p2sh_address = bitcoin.hex_to_b58check(witness_hash, magicbyte=5)\n",
    "print('P2SH address:', p2sh_address)"
   ]
  }
 ],
 "metadata": {
  "kernelspec": {
   "display_name": "Python 3",
   "language": "python",
   "name": "python3"
  },
  "language_info": {
   "codemirror_mode": {
    "name": "ipython",
    "version": 3
   },
   "file_extension": ".py",
   "mimetype": "text/x-python",
   "name": "python",
   "nbconvert_exporter": "python",
   "pygments_lexer": "ipython3",
   "version": "3.6.6"
  }
 },
 "nbformat": 4,
 "nbformat_minor": 2
}
