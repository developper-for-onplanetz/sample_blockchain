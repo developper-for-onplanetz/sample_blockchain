{
 "cells": [
  {
   "cell_type": "markdown",
   "metadata": {},
   "source": [
    "# Generating key seed using mnemonic code according to BIP-39"
   ]
  },
  {
   "cell_type": "code",
   "execution_count": 237,
   "metadata": {},
   "outputs": [],
   "source": [
    "import bitcoin\n",
    "import os\n",
    "import binascii\n",
    "from hashlib import sha256, sha512\n",
    "import hmac\n",
    "import pbkdf2\n",
    "import mnemonic\n",
    "mnem = mnemonic.mnemonic.Mnemonic(language='english')"
   ]
  },
  {
   "cell_type": "code",
   "execution_count": 209,
   "metadata": {
    "scrolled": false
   },
   "outputs": [
    {
     "name": "stdout",
     "output_type": "stream",
     "text": [
      "Entropy(hex): 2f4c2d805319a63c2d5037c504b74018\n"
     ]
    }
   ],
   "source": [
    "#Generating (n_bits) bits of entropy\n",
    "n_bits = 128\n",
    "entropy = os.urandom(n_bits//8)\n",
    "print('Entropy(hex):', binascii.hexlify(entropy).decode())"
   ]
  },
  {
   "cell_type": "code",
   "execution_count": 210,
   "metadata": {},
   "outputs": [
    {
     "name": "stdout",
     "output_type": "stream",
     "text": [
      "Checksum(bin): 1010\n"
     ]
    }
   ],
   "source": [
    "#Computing checksum from frist (entropy-bits/32) of sha256(entropy)\n",
    "def checksum(entropy):\n",
    "    sha = sha256(entropy).digest()\n",
    "    bin_sha = bin(int(binascii.hexlify(sha).decode(), 16))\n",
    "    return bin_sha[2:].zfill(256)[:len(entropy)*8//32]\n",
    "checksum = checksum(entropy)\n",
    "print('Checksum(bin):', checksum)"
   ]
  },
  {
   "cell_type": "code",
   "execution_count": 211,
   "metadata": {},
   "outputs": [
    {
     "name": "stdout",
     "output_type": "stream",
     "text": [
      "Entropy + checksum(bin): 001011110100110000101101100000000101001100011001101001100011110000101101010100000011011111000101000001001011011101000000000110001010\n"
     ]
    }
   ],
   "source": [
    "#Entropy + checksum\n",
    "checked = bin(int(binascii.hexlify(entropy).decode(), 16), )[2:].zfill(n_bits) + checksum\n",
    "print('Entropy + checksum(bin):', checked)"
   ]
  },
  {
   "cell_type": "code",
   "execution_count": 229,
   "metadata": {},
   "outputs": [
    {
     "name": "stdout",
     "output_type": "stream",
     "text": [
      "consider gesture gas plate omit bulk relief alone shallow certain source course\n"
     ]
    }
   ],
   "source": [
    "#Generating mnemonic using 2048 words list\n",
    "words = []\n",
    "for i in range(len(checked) // 11):\n",
    "    words.append(mnem.wordlist[int(checked[i*11:(i+1)*11], 2)])\n",
    "mnemonic_code = ' '.join(words)\n",
    "print(mnemonic_code)"
   ]
  },
  {
   "cell_type": "code",
   "execution_count": 243,
   "metadata": {},
   "outputs": [
    {
     "name": "stdout",
     "output_type": "stream",
     "text": [
      "Seed: 5a798b98e4d7fc4e8fce1836333590afb776d6c1b44a104e6cc99d769f33c4b716a200963f1376d6ad6af5c83644dbf38d6f222c9ea7324ed97c4851a92607f5\n"
     ]
    }
   ],
   "source": [
    "#Generating final 512-bit seed\n",
    "passphrase = 'HelloWorld'\n",
    "seed = pbkdf2.PBKDF2(mnemonic_code, salt='mnemonic' + passphrase, macmodule=hmac, digestmodule=sha512).read(64)\n",
    "print('Seed:', binascii.hexlify(seed).decode())"
   ]
  }
 ],
 "metadata": {
  "kernelspec": {
   "display_name": "Python 3",
   "language": "python",
   "name": "python3"
  },
  "language_info": {
   "codemirror_mode": {
    "name": "ipython",
    "version": 3
   },
   "file_extension": ".py",
   "mimetype": "text/x-python",
   "name": "python",
   "nbconvert_exporter": "python",
   "pygments_lexer": "ipython3",
   "version": "3.7.0"
  }
 },
 "nbformat": 4,
 "nbformat_minor": 2
}
