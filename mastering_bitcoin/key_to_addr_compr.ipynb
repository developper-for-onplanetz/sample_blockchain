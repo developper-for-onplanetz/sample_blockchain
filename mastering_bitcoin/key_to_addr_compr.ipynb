{
 "cells": [
  {
   "cell_type": "markdown",
   "metadata": {},
   "source": [
    "# Private key > Public key > Address with compression"
   ]
  },
  {
   "cell_type": "code",
   "execution_count": 1,
   "metadata": {},
   "outputs": [],
   "source": [
    "import bitcoin"
   ]
  },
  {
   "cell_type": "code",
   "execution_count": 26,
   "metadata": {},
   "outputs": [
    {
     "name": "stdout",
     "output_type": "stream",
     "text": [
      "Private key: 102a1c5b231b238c741b10ad692a70af215091a8744bed0793d5241639ab1d5d\n",
      "Private Key (Compressed):  102a1c5b231b238c741b10ad692a70af215091a8744bed0793d5241639ab1d5d01\n"
     ]
    }
   ],
   "source": [
    "#Random key: positive and less then order of G(elliptic curve generator)\n",
    "while True:\n",
    "    priv_key = bitcoin.random_key()\n",
    "    if (0 < bitcoin.decode_privkey(priv_key, 'hex') < bitcoin.N):\n",
    "        break\n",
    "print('Private key:', priv_key)\n",
    "\n",
    "#Compressed: '01' at the end\n",
    "compressed_private_key = priv_key + '01'\n",
    "print(\"Private Key (Compressed): \", compressed_private_key)"
   ]
  },
  {
   "cell_type": "code",
   "execution_count": 27,
   "metadata": {},
   "outputs": [
    {
     "name": "stdout",
     "output_type": "stream",
     "text": [
      "Private key (WIF): 5HwQUuB7P8a8T7zyRvbBLNyYouNmUGNzQwByv79aKXevvedqxbN\n",
      "Private Key (WIF-Compressed):  Kwm8e9HdAgRDtHtt51XrcXzbQ2B5HLt4QeBUDQ8r4nJR1WdvRU7N\n",
      "Private Key (WIF-Compressed, 2nd way):  Kwm8e9HdAgRDtHtt51XrcXzbQ2B5HLt4QeBUDQ8r4nJR1WdvRU7N\n"
     ]
    }
   ],
   "source": [
    "#WIF(wallet imput format)\n",
    "wif_encoded_private_key = bitcoin.encode_privkey(bitcoin.decode_privkey(priv_key, 'hex'), 'wif')\n",
    "print(\"Private key (WIF):\", wif_encoded_private_key)\n",
    "\n",
    "#WIF-compressed (2 ways)\n",
    "wif_compressed_private_key = bitcoin.encode_privkey(bitcoin.decode_privkey(compressed_private_key, 'hex'), 'wif')\n",
    "print(\"Private Key (WIF-Compressed): \", wif_compressed_private_key)\n",
    "\n",
    "#or\n",
    "wif_compressed_private_key = bitcoin.encode_privkey(bitcoin.decode_privkey(priv_key, 'hex'), 'wif_compressed')\n",
    "print(\"Private Key (WIF-Compressed, 2nd way): \", wif_compressed_private_key)"
   ]
  },
  {
   "cell_type": "code",
   "execution_count": 28,
   "metadata": {},
   "outputs": [
    {
     "name": "stdout",
     "output_type": "stream",
     "text": [
      "Public Key point(x,y) (79114947868813799970926626125405537918140449582564449317713506717316772071262, 42185470483515780388871987386123508750960928597566216305376499975151560890991)\n",
      "Public Key: 04aee97940769385091c2e331f2a4aaa780305ea9895af99d9dec952e6e661075e5d442151def9769c24e1af4de146448931bc2ea0d5d3f35a010b230c78cf1a6f\n",
      "Public Key(Compressed): 03aee97940769385091c2e331f2a4aaa780305ea9895af99d9dec952e6e661075e\n"
     ]
    }
   ],
   "source": [
    "#Public key point = priv_key*G (elliptic curve points multiplication)\n",
    "public_key_point = bitcoin.fast_multiply(bitcoin.G, bitcoin.decode_privkey(priv_key, 'hex'))\n",
    "print(\"Public Key point(x,y)\", public_key_point)\n",
    "\n",
    "# Encode as hex, prefix 04\n",
    "hex_encoded_public_key = bitcoin.encode_pubkey(public_key_point, 'hex')\n",
    "print(\"Public Key:\", hex_encoded_public_key)\n",
    "\n",
    "# Compress public key, adjust prefix depending on whether y is even or odd\n",
    "(public_key_x, public_key_y) = public_key_point\n",
    "compressed_prefix = '02' if (public_key_y % 2) == 0 else '03'\n",
    "hex_compressed_public_key = compressed_prefix + (bitcoin.encode(public_key_x, 16).zfill(64))\n",
    "print(\"Public Key(Compressed):\", hex_compressed_public_key)"
   ]
  },
  {
   "cell_type": "code",
   "execution_count": 34,
   "metadata": {},
   "outputs": [
    {
     "name": "stdout",
     "output_type": "stream",
     "text": [
      "Bitcoin Address: 1M6qCwWNNgqVLKsqJQWcTNtFmRKs45bbqJ\n",
      "Bitcoin Address(Compressed): 14z11UJ3sJsPRH8suxS4iEuNpVtm6QVRtA\n"
     ]
    }
   ],
   "source": [
    "#Bitcoin address in Base58check format\n",
    "print(\"Bitcoin Address:\", bitcoin.pubkey_to_address(hex_encoded_public_key))\n",
    "\n",
    "#Compressed Bitcoin address in Base58check format\n",
    "print(\"Bitcoin Address(Compressed):\",\n",
    "      bitcoin.pubkey_to_address(hex_compressed_public_key))"
   ]
  }
 ],
 "metadata": {
  "kernelspec": {
   "display_name": "Python 3",
   "language": "python",
   "name": "python3"
  },
  "language_info": {
   "codemirror_mode": {
    "name": "ipython",
    "version": 3
   },
   "file_extension": ".py",
   "mimetype": "text/x-python",
   "name": "python",
   "nbconvert_exporter": "python",
   "pygments_lexer": "ipython3",
   "version": "3.7.0"
  }
 },
 "nbformat": 4,
 "nbformat_minor": 2
}
