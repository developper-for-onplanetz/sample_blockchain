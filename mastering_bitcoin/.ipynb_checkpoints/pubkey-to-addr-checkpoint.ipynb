{
 "cells": [
  {
   "cell_type": "markdown",
   "metadata": {},
   "source": [
    "# Derivation of Bitcoin address from public key"
   ]
  },
  {
   "cell_type": "code",
   "execution_count": 16,
   "metadata": {},
   "outputs": [],
   "source": [
    "from hashlib import sha256, new\n",
    "from base58 import b58encode\n",
    "import codecs"
   ]
  },
  {
   "cell_type": "code",
   "execution_count": 17,
   "metadata": {},
   "outputs": [],
   "source": [
    "def pub_to_addr(pubkey):\n",
    "    #payload = ripemd160(sha256(pubkey)) \n",
    "    ripemd160 = new('ripemd160') \n",
    "    ripemd160.update(sha256(codecs.decode(pubkey,'hex')).digest()) \n",
    "    #checksum = sha256(version_pref + payload) (first 4 bytes)\n",
    "    checksum = sha256(sha256(b'\\x00' + ripemd160.digest()).digest()).digest()[0:4]\n",
    "    #result = Base58encode(version_pref + payload + checksum)\n",
    "    return b58encode(b'\\x00' + ripemd160.digest() + checksum)      "
   ]
  },
  {
   "cell_type": "code",
   "execution_count": 21,
   "metadata": {},
   "outputs": [
    {
     "name": "stdout",
     "output_type": "stream",
     "text": [
      "Public key: 0202a406624211f2abbdc68da3df929f938c3399dd79fac1b51b0e4ad1d26a47aa\n",
      "Address: 1PRTTaJesdNovgne6Ehcdu1fpEdX68VBuz\n"
     ]
    }
   ],
   "source": [
    "pubkey = '0202a406624211f2abbdc68da3df929f938c3399dd79fac1b51b0e4ad1d26a47aa'\n",
    "address = pub_to_addr(pubkey).decode()\n",
    "print('Public key:', pubkey)\n",
    "print('Address:', address)"
   ]
  }
 ],
 "metadata": {
  "kernelspec": {
   "display_name": "Python 3",
   "language": "python",
   "name": "python3"
  },
  "language_info": {
   "codemirror_mode": {
    "name": "ipython",
    "version": 3
   },
   "file_extension": ".py",
   "mimetype": "text/x-python",
   "name": "python",
   "nbconvert_exporter": "python",
   "pygments_lexer": "ipython3",
   "version": "3.6.6"
  }
 },
 "nbformat": 4,
 "nbformat_minor": 2
}
